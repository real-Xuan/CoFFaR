{
 "cells": [
  {
   "cell_type": "code",
   "execution_count": null,
   "metadata": {
    "collapsed": true,
    "pycharm": {
     "is_executing": true
    }
   },
   "outputs": [],
   "source": [
    "import os\n",
    "import numpy as np\n",
    "import torch\n",
    "import torch.nn.functional as F\n",
    "import torch.nn.parallel\n",
    "import torch.optim\n",
    "import torch.utils.data\n",
    "import torch.utils.data.distributed\n",
    "import pandas as pd\n",
    "from utils import plot_features, calculate_performance_split, prob_to_predictlabel\n",
    "\n",
    "device = torch.device(\"cuda:0\" if torch.cuda.is_available() else \"cpu\")\n",
    "5"
   ]
  },
  {
   "cell_type": "code",
   "execution_count": null,
   "outputs": [],
   "source": [
    "\n",
    "def test(test_loader, model):\n",
    "    # switch to eval mode\n",
    "    model.eval()\n",
    "\n",
    "    all_features, all_labels = [], []\n",
    "    ACC = 0\n",
    "    AUC = 0\n",
    "\n",
    "    for batch_idx, data in enumerate(test_loader):\n",
    "        inputs, labels = data[0].to(device), data[1].to(device)\n",
    "\n",
    "\n",
    "        with torch.no_grad():\n",
    "            features, outputs= model(inputs)\n",
    "\n",
    "        all_features.append(features.data.cpu().numpy())\n",
    "        all_labels.append(labels.data.cpu().numpy())\n",
    "\n",
    "\n",
    "        class_probs = []\n",
    "        class_label = []\n",
    "\n",
    "        with torch.no_grad():\n",
    "            class_probs_batch = [F.softmax(el, dim=0) for el in\n",
    "                                 outputs]  # [tensor([0.7962, 0.2038], device='cuda:0', dtype=torch.float64)\n",
    "            class_probs.append(class_probs_batch)\n",
    "            class_label.append(labels)\n",
    "\n",
    "        test_probs = torch.cat([torch.stack(batch) for batch in class_probs])\n",
    "\n",
    "        test_label = torch.cat(class_label)\n",
    "\n",
    "\n",
    "        y_pred, y_probs = prob_to_predictlabel(test_probs, test_label)\n",
    "\n",
    "        ACC, AUC, TAR_FAR_E1, TAR_FAR_E2, TAR_FAR_E3, TAR_FAR_E0_3, FPR, TPR, thresholds = calculate_performance_split(\n",
    "            test_label.cpu(), y_pred, y_probs, 1)\n",
    "\n",
    "        print(\"Test Acc is : \" + str(ACC))\n",
    "        print(\"Test AUC is : \" + str(AUC))\n",
    "        print(\"TAR@FAR_E1 is : \" + str(TAR_FAR_E1))\n",
    "        print(\"TAR_FAR_E2 is : \" + str(TAR_FAR_E2))\n",
    "        print(\"TAR@FAR_E3 is : \" + str(TAR_FAR_E3))\n",
    "        print(\"TAR@FAR=0.3 is : \" + str(TAR_FAR_E0_3))\n",
    "\n",
    "    all_features = np.concatenate(all_features, 0)\n",
    "    all_labels = np.concatenate(all_labels, 0)\n",
    "    plot_features(all_features, all_labels, 2, isTest=True)\n",
    "\n",
    "    if not os.path.exists('./plotdata/'):\n",
    "        os.makedirs('./plotdata/')\n",
    "    df_feature = pd.DataFrame(columns=('x_0', 'y_0', 'x_1', 'y_1'))\n",
    "    df_feature['x_0'] = all_features[all_labels == 0, 0]\n",
    "    df_feature['y_0'] = all_features[all_labels == 0, 1]\n",
    "    df_feature['x_1'] = all_features[all_labels == 1, 0]\n",
    "    df_feature['y_1'] = all_features[all_labels == 1, 1]\n",
    "    df_feature.to_csv('./plotdata/' + 'test.csv', index=True, index_label=True)"
   ],
   "metadata": {
    "collapsed": false,
    "pycharm": {
     "is_executing": true
    }
   }
  },
  {
   "cell_type": "code",
   "execution_count": null,
   "outputs": [],
   "source": [
    "from torchvision.datasets import ImageFolder\n",
    "from torchvision.transforms import ToTensor, Resize, Compose\n",
    "data_transform = Compose([Resize((20, 40)),\n",
    "                          # Normalize((0.5, 0.5, 0.5), (0.5, 0.5, 0.5)),\n",
    "                          ToTensor()])\n",
    "\n",
    "test_data = ImageFolder(root=\"/root/run/testdata/\",\n",
    "                        transform=data_transform)\n",
    "\n",
    "test_loader = torch.utils.data.DataLoader(dataset=test_data, batch_size=len(test_data),\n",
    "                                          num_workers=args.num_workers,\n",
    "                                          shuffle=False)\n",
    "\n",
    "model = torch.load('./model/model')\n",
    "model.to(device)\n",
    "\n",
    "test(test_loader, model)"
   ],
   "metadata": {
    "collapsed": false
   }
  }
 ],
 "metadata": {
  "kernelspec": {
   "display_name": "Python 3",
   "language": "python",
   "name": "python3"
  },
  "language_info": {
   "codemirror_mode": {
    "name": "ipython",
    "version": 2
   },
   "file_extension": ".py",
   "mimetype": "text/x-python",
   "name": "python",
   "nbconvert_exporter": "python",
   "pygments_lexer": "ipython2",
   "version": "2.7.6"
  }
 },
 "nbformat": 4,
 "nbformat_minor": 0
}
